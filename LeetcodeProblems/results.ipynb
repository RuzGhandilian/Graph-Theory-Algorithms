{
 "cells": [
  {
   "cell_type": "markdown",
   "id": "3b30a73e",
   "metadata": {},
   "source": [
    "## Problem 1 – Redundant Connection\n",
    "**LeetCode Link**: [https://leetcode.com/problems/redundant-connection/](https://leetcode.com/problems/redundant-connection/)\n",
    "\n",
    "Find the extra edge in an undirected graph that forms a cycle."
   ]
  },
  {
   "cell_type": "code",
   "execution_count": 1,
   "id": "a55100df",
   "metadata": {
    "jupyter": {
     "is_executing": true
    }
   },
   "outputs": [],
   "source": [
    "from src.problem1 import find_redundant_connection"
   ]
  },
  {
   "cell_type": "code",
   "execution_count": 2,
   "id": "bb5329c1",
   "metadata": {},
   "outputs": [
    {
     "data": {
      "text/plain": [
       "[2, 3]"
      ]
     },
     "execution_count": 2,
     "metadata": {},
     "output_type": "execute_result"
    }
   ],
   "source": [
    "edges = [[1, 2], [1, 3], [2, 3]]\n",
    "find_redundant_connection(edges)"
   ]
  },
  {
   "cell_type": "markdown",
   "id": "cbae421d",
   "metadata": {},
   "source": [
    "## Problem 2 – Target Sum\n",
    "**LeetCode Link**: [https://leetcode.com/problems/target-sum/](https://leetcode.com/problems/target-sum/)\n",
    "\n",
    "Count ways to assign + and - signs to make the sum equal to target."
   ]
  },
  {
   "cell_type": "code",
   "execution_count": 3,
   "id": "1f953f3a",
   "metadata": {},
   "outputs": [],
   "source": [
    "from src.problem2 import find_target_sum_ways"
   ]
  },
  {
   "cell_type": "code",
   "execution_count": 4,
   "id": "0b745c39",
   "metadata": {},
   "outputs": [
    {
     "data": {
      "text/plain": [
       "5"
      ]
     },
     "execution_count": 4,
     "metadata": {},
     "output_type": "execute_result"
    }
   ],
   "source": [
    "nums = [1, 1, 1, 1, 1]\n",
    "target = 3\n",
    "find_target_sum_ways(nums, target)"
   ]
  },
  {
   "cell_type": "markdown",
   "id": "f3c4b3aa",
   "metadata": {},
   "source": [
    "## Problem 3 – Find Center of Star Graph\n",
    "**LeetCode Link**: [https://leetcode.com/problems/find-center-of-star-graph/](https://leetcode.com/problems/find-center-of-star-graph/)\n",
    "\n",
    "Given a star graph, find the center node."
   ]
  },
  {
   "cell_type": "code",
   "execution_count": 5,
   "id": "04085c6c",
   "metadata": {},
   "outputs": [],
   "source": [
    "from src.problem3 import find_center"
   ]
  },
  {
   "cell_type": "code",
   "execution_count": 6,
   "id": "72ad8f1b",
   "metadata": {},
   "outputs": [
    {
     "data": {
      "text/plain": [
       "2"
      ]
     },
     "execution_count": 6,
     "metadata": {},
     "output_type": "execute_result"
    }
   ],
   "source": [
    "edges = [[1, 2], [2, 3], [4, 2]]\n",
    "find_center(edges)"
   ]
  },
  {
   "cell_type": "markdown",
   "id": "9aee9dad",
   "metadata": {},
   "source": [
    "## Problem 4 – Find if Path Exists in Graph\n",
    "**LeetCode Link**: [https://leetcode.com/problems/find-if-path-exists-in-graph/](https://leetcode.com/problems/find-if-path-exists-in-graph/)\n",
    "\n",
    "Check if a path exists between two nodes in an undirected graph."
   ]
  },
  {
   "cell_type": "code",
   "execution_count": 7,
   "id": "0b65ac28",
   "metadata": {},
   "outputs": [],
   "source": [
    "from src.problem4 import valid_path"
   ]
  },
  {
   "cell_type": "code",
   "execution_count": 8,
   "id": "15abc83f",
   "metadata": {},
   "outputs": [
    {
     "data": {
      "text/plain": [
       "False"
      ]
     },
     "execution_count": 8,
     "metadata": {},
     "output_type": "execute_result"
    }
   ],
   "source": [
    "n = 6\n",
    "edges = [[0,1],[0,2],[3,5],[5,4],[4,3]]\n",
    "source = 0\n",
    "destination = 5\n",
    "valid_path(n, edges, source, destination)"
   ]
  },
  {
   "cell_type": "markdown",
   "id": "e99e95af",
   "metadata": {},
   "source": [
    "## Problem 5 – Jump Game II\n",
    "**LeetCode Link**: [https://leetcode.com/problems/jump-game-ii/](https://leetcode.com/problems/jump-game-ii/)\n",
    "\n",
    "Return the minimum number of jumps needed to reach the last index."
   ]
  },
  {
   "cell_type": "code",
   "execution_count": 9,
   "id": "32858a75",
   "metadata": {},
   "outputs": [],
   "source": [
    "from src.problem5 import jump_game_ii"
   ]
  },
  {
   "cell_type": "code",
   "execution_count": 10,
   "id": "09e3f180",
   "metadata": {},
   "outputs": [
    {
     "data": {
      "text/plain": [
       "2"
      ]
     },
     "execution_count": 10,
     "metadata": {},
     "output_type": "execute_result"
    }
   ],
   "source": [
    "nums = [2, 3, 1, 1, 4]\n",
    "jump_game_ii(nums)"
   ]
  },
  {
   "cell_type": "markdown",
   "id": "1490b3cb",
   "metadata": {},
   "source": [
    "## Problem 6 – Best Time to Buy and Sell Stock II\n",
    "**LeetCode Link**: [https://leetcode.com/problems/best-time-to-buy-and-sell-stock-ii/](https://leetcode.com/problems/best-time-to-buy-and-sell-stock-ii/)\n",
    "\n",
    "Find the max profit from multiple buy and sell transactions."
   ]
  },
  {
   "cell_type": "code",
   "execution_count": 11,
   "id": "a33d1a7c",
   "metadata": {},
   "outputs": [],
   "source": [
    "from src.problem6 import max_profit"
   ]
  },
  {
   "cell_type": "code",
   "execution_count": 12,
   "id": "25f68d7a",
   "metadata": {},
   "outputs": [
    {
     "data": {
      "text/plain": [
       "7"
      ]
     },
     "execution_count": 12,
     "metadata": {},
     "output_type": "execute_result"
    }
   ],
   "source": [
    "prices = [7, 1, 5, 3, 6, 4]\n",
    "max_profit(prices)"
   ]
  }
 ],
 "metadata": {
  "kernelspec": {
   "display_name": "Python 3 (ipykernel)",
   "language": "python",
   "name": "python3"
  },
  "language_info": {
   "codemirror_mode": {
    "name": "ipython",
    "version": 3
   },
   "file_extension": ".py",
   "mimetype": "text/x-python",
   "name": "python",
   "nbconvert_exporter": "python",
   "pygments_lexer": "ipython3",
   "version": "3.11.5"
  }
 },
 "nbformat": 4,
 "nbformat_minor": 5
}
